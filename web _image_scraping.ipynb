{
 "cells": [
  {
   "cell_type": "code",
   "execution_count": 4,
   "id": "1bfd4086",
   "metadata": {},
   "outputs": [
    {
     "ename": "ImportError",
     "evalue": "cannot import name 'beautifulSoup' from 'bs4' (C:\\Users\\kaush\\anaconda3\\Lib\\site-packages\\bs4\\__init__.py)",
     "output_type": "error",
     "traceback": [
      "\u001b[1;31m---------------------------------------------------------------------------\u001b[0m",
      "\u001b[1;31mImportError\u001b[0m                               Traceback (most recent call last)",
      "Cell \u001b[1;32mIn[4], line 4\u001b[0m\n\u001b[0;32m      2\u001b[0m \u001b[38;5;28;01mimport\u001b[39;00m \u001b[38;5;21;01mos\u001b[39;00m\n\u001b[0;32m      3\u001b[0m \u001b[38;5;28;01mimport\u001b[39;00m \u001b[38;5;21;01mlogging\u001b[39;00m\n\u001b[1;32m----> 4\u001b[0m \u001b[38;5;28;01mfrom\u001b[39;00m \u001b[38;5;21;01mbs4\u001b[39;00m \u001b[38;5;28;01mimport\u001b[39;00m beautifulSoup\n\u001b[0;32m      5\u001b[0m \u001b[38;5;28;01mfrom\u001b[39;00m \u001b[38;5;21;01murlib\u001b[39;00m\u001b[38;5;21;01m.\u001b[39;00m\u001b[38;5;21;01mrequest\u001b[39;00m \u001b[38;5;28;01mimport\u001b[39;00m urlopen\n",
      "\u001b[1;31mImportError\u001b[0m: cannot import name 'beautifulSoup' from 'bs4' (C:\\Users\\kaush\\anaconda3\\Lib\\site-packages\\bs4\\__init__.py)"
     ]
    }
   ],
   "source": [
    "import requests\n",
    "import os\n",
    "import logging\n",
    "from bs4 import beautifulSoup\n",
    "from urlib.request import urlopen\n",
    "\n"
   ]
  },
  {
   "cell_type": "code",
   "execution_count": 6,
   "id": "deb91a51",
   "metadata": {},
   "outputs": [
    {
     "ename": "ImportError",
     "evalue": "cannot import name 'beautifulSoup' from 'bs4' (C:\\Users\\kaush\\anaconda3\\Lib\\site-packages\\bs4\\__init__.py)",
     "output_type": "error",
     "traceback": [
      "\u001b[1;31m---------------------------------------------------------------------------\u001b[0m",
      "\u001b[1;31mImportError\u001b[0m                               Traceback (most recent call last)",
      "Cell \u001b[1;32mIn[6], line 4\u001b[0m\n\u001b[0;32m      2\u001b[0m \u001b[38;5;28;01mimport\u001b[39;00m \u001b[38;5;21;01mos\u001b[39;00m\n\u001b[0;32m      3\u001b[0m \u001b[38;5;28;01mimport\u001b[39;00m \u001b[38;5;21;01mlogging\u001b[39;00m\n\u001b[1;32m----> 4\u001b[0m \u001b[38;5;28;01mfrom\u001b[39;00m \u001b[38;5;21;01mbs4\u001b[39;00m \u001b[38;5;28;01mimport\u001b[39;00m beautifulSoup\n\u001b[0;32m      5\u001b[0m \u001b[38;5;28;01mfrom\u001b[39;00m \u001b[38;5;21;01murlib\u001b[39;00m\u001b[38;5;21;01m.\u001b[39;00m\u001b[38;5;21;01mrequest\u001b[39;00m \u001b[38;5;28;01mimport\u001b[39;00m urlopen\n",
      "\u001b[1;31mImportError\u001b[0m: cannot import name 'beautifulSoup' from 'bs4' (C:\\Users\\kaush\\anaconda3\\Lib\\site-packages\\bs4\\__init__.py)"
     ]
    }
   ],
   "source": [
    "import requests\n",
    "import os\n",
    "import logging\n",
    "from bs4 import beautifulSoup\n",
    "from urlib.request import urlopen\n"
   ]
  },
  {
   "cell_type": "code",
   "execution_count": 8,
   "id": "b461b4f9",
   "metadata": {},
   "outputs": [
    {
     "name": "stdout",
     "output_type": "stream",
     "text": [
      "Requirement already satisfied: bs4 in c:\\users\\kaush\\anaconda3\\lib\\site-packages (0.0.1)\n",
      "Requirement already satisfied: beautifulsoup4 in c:\\users\\kaush\\anaconda3\\lib\\site-packages (from bs4) (4.12.2)\n",
      "Requirement already satisfied: soupsieve>1.2 in c:\\users\\kaush\\anaconda3\\lib\\site-packages (from beautifulsoup4->bs4) (2.4)\n",
      "Note: you may need to restart the kernel to use updated packages.\n"
     ]
    }
   ],
   "source": [
    "pip install bs4\n"
   ]
  },
  {
   "cell_type": "code",
   "execution_count": 11,
   "id": "86b12ac3",
   "metadata": {},
   "outputs": [
    {
     "ename": "ImportError",
     "evalue": "cannot import name 'beautifulSoup' from 'bs4' (C:\\Users\\kaush\\anaconda3\\Lib\\site-packages\\bs4\\__init__.py)",
     "output_type": "error",
     "traceback": [
      "\u001b[1;31m---------------------------------------------------------------------------\u001b[0m",
      "\u001b[1;31mImportError\u001b[0m                               Traceback (most recent call last)",
      "Cell \u001b[1;32mIn[11], line 4\u001b[0m\n\u001b[0;32m      2\u001b[0m \u001b[38;5;28;01mimport\u001b[39;00m \u001b[38;5;21;01mos\u001b[39;00m\n\u001b[0;32m      3\u001b[0m \u001b[38;5;28;01mimport\u001b[39;00m \u001b[38;5;21;01mlogging\u001b[39;00m\n\u001b[1;32m----> 4\u001b[0m \u001b[38;5;28;01mfrom\u001b[39;00m \u001b[38;5;21;01mbs4\u001b[39;00m \u001b[38;5;28;01mimport\u001b[39;00m beautifulSoup\n\u001b[0;32m      5\u001b[0m \u001b[38;5;28;01mfrom\u001b[39;00m \u001b[38;5;21;01murlib\u001b[39;00m\u001b[38;5;21;01m.\u001b[39;00m\u001b[38;5;21;01mrequest\u001b[39;00m \u001b[38;5;28;01mimport\u001b[39;00m urlopen\n",
      "\u001b[1;31mImportError\u001b[0m: cannot import name 'beautifulSoup' from 'bs4' (C:\\Users\\kaush\\anaconda3\\Lib\\site-packages\\bs4\\__init__.py)"
     ]
    }
   ],
   "source": [
    "import requests\n",
    "import os\n",
    "import logging\n",
    "from bs4 import beautifulSoup\n",
    "from urlib.request import urlopen"
   ]
  },
  {
   "cell_type": "code",
   "execution_count": 13,
   "id": "6815424c",
   "metadata": {},
   "outputs": [],
   "source": [
    "import bs4\n"
   ]
  },
  {
   "cell_type": "code",
   "execution_count": 16,
   "id": "a2c96762",
   "metadata": {},
   "outputs": [],
   "source": [
    "from bs4 import BeautifulSoup\n",
    "\n"
   ]
  },
  {
   "cell_type": "code",
   "execution_count": 19,
   "id": "d228eb61",
   "metadata": {},
   "outputs": [],
   "source": [
    "from urllib.request import urlopen"
   ]
  },
  {
   "cell_type": "code",
   "execution_count": 21,
   "id": "67d17b50",
   "metadata": {},
   "outputs": [],
   "source": [
    "save_dir=\"images/\"\n",
    "if not os.path.exists(save_dir):\n",
    "    os.mkdir(save_dir)"
   ]
  },
  {
   "cell_type": "code",
   "execution_count": 22,
   "id": "867850a2",
   "metadata": {},
   "outputs": [],
   "source": [
    "querry=\"Narendra modi\"\n",
    "url=https://www.google.com/search?q=narendra+modi&tbm=isch&ved=2ahUKEwifrdav4cmBAxVDa2wGHQaqDVUQ2-cCegQIABAA&oq=narendra+modi&gs_lcp=CgNpbWcQAzIECCMQJzIHCAAQigUQQzILCAAQgAQQsQMQgwEyCAgAEIAEELEDMgsIABCABBCxAxCDATIICAAQgAQQsQMyCwgAEIAEELEDEIMBMggIABCABBCxAzIFCAAQgAQyCwgAEIAEELEDEIMBOgoIABCKBRCxAxBDOg0IABCKBRCxAxCDARBDOgkIABAYEIAEEAo6BwgAEBgQgAQ6DAgAEBgQgAQQxwMQClDTDFjlNGDhNmgCcAB4AIABgwGIAeANkgEEMC4xNpgBAKABAaoBC2d3cy13aXotaW1nwAEB&sclient=img&ei=oZUTZd_YNsPWseMPhtS2qAU&bih=651&biw=1366&rlz=1C1VDKB_enIN981IN981"
   ]
  },
  {
   "cell_type": "code",
   "execution_count": 24,
   "id": "4fc7719f",
   "metadata": {},
   "outputs": [],
   "source": [
    "response=requests.get(f\"https://www.google.com/search?q={querry}&tbm=isch&ved=2ahUKEwifrdav4cmBAxVDa2wGHQaqDVUQ2-cCegQIABAA&oq={querry}&gs_lcp=CgNpbWcQAzIECCMQJzIHCAAQigUQQzILCAAQgAQQsQMQgwEyCAgAEIAEELEDMgsIABCABBCxAxCDATIICAAQgAQQsQMyCwgAEIAEELEDEIMBMggIABCABBCxAzIFCAAQgAQyCwgAEIAEELEDEIMBOgoIABCKBRCxAxBDOg0IABCKBRCxAxCDARBDOgkIABAYEIAEEAo6BwgAEBgQgAQ6DAgAEBgQgAQQxwMQClDTDFjlNGDhNmgCcAB4AIABgwGIAeANkgEEMC4xNpgBAKABAaoBC2d3cy13aXotaW1nwAEB&sclient=img&ei=oZUTZd_YNsPWseMPhtS2qAU&bih=651&biw=1366&rlz=1C1VDKB_enIN981IN981\")"
   ]
  },
  {
   "cell_type": "code",
   "execution_count": 25,
   "id": "1c36cf61",
   "metadata": {},
   "outputs": [
    {
     "data": {
      "text/plain": [
       "<Response [200]>"
      ]
     },
     "execution_count": 25,
     "metadata": {},
     "output_type": "execute_result"
    }
   ],
   "source": [
    "response"
   ]
  },
  {
   "cell_type": "code",
   "execution_count": 29,
   "id": "ba67409f",
   "metadata": {},
   "outputs": [],
   "source": [
    "soup=BeautifulSoup(response.content,\"html.parser\")"
   ]
  },
  {
   "cell_type": "code",
   "execution_count": 30,
   "id": "1ba258ac",
   "metadata": {},
   "outputs": [
    {
     "data": {
      "text/plain": [
       "<!DOCTYPE html PUBLIC \"-//WAPFORUM//DTD XHTML Mobile 1.0//EN\" \"http://www.wapforum.org/DTD/xhtml-mobile10.dtd\">\n",
       "<html lang=\"en-IN\" xmlns=\"http://www.w3.org/1999/xhtml\"><head><meta content=\"application/xhtml+xml; charset=utf-8\" http-equiv=\"Content-Type\"/><meta content=\"no-cache\" name=\"Cache-Control\"/><title>Narendra modi - Google Search</title><style>a{text-decoration:none;color:inherit}a:hover{text-decoration:underline}a img{border:0}body{font-family:arial,sans-serif;padding:8px;margin:0 auto;max-width:700px;min-width:240px;}.FbhRzb{border-left:thin solid #dadce0;border-right:thin solid #dadce0;border-top:thin solid #dadce0;height:40px;overflow:hidden}.n692Zd{margin-bottom:10px}.cvifge{height:40px;border-spacing:0}.QvGUP{height:40px;padding:0 8px 0 8px;vertical-align:top}.O4cRJf{height:40px;width:100%;padding:0;padding-right:16px}.O1ePr{height:40px;padding:0;vertical-align:top}.kgJEQe{height:36px;width:98px;vertical-align:top;margin-top:4px}.lXLRf{vertical-align:top}.MhzMZd{border:0;vertical-align:middle;font-size:14px;height:40px;padding:0;width:100%;padding-left:16px}.xB0fq{height:40px;border:none;font-size:14px;background-color:#1a73e8;color:#fff;padding:0 16px;margin:0;vertical-align:top;cursor:pointer}.xB0fq:focus{border:1px solid #1a73e8}.M7pB2{border:thin solid #dadce0;margin:0 0 3px 0;font-size:13px;font-weight:500;height:40px}.euZec{width:100%;height:40px;text-align:center;border-spacing:0}table.euZec td{padding:0;width:25%}.QIqI7{display:inline-block;padding-top:4px;font-weight:bold;color:#4285f4}.EY24We{border-bottom:2px solid #4285f4}.CsQyDc{display:inline-block;color:#70757a}.TuS8Ad{font-size:14px}.HddGcc{padding:8px;color:#70757a}.dzp8ae{font-weight:bold;color:#3c4043}.rEM8G{color:#70757a}.bookcf{table-layout:fixed;width:100%;border-spacing:0}.InWNIe{text-align:center}.uZgmoc{border:thin solid #dadce0;color:#70757a;font-size:14px;text-align:center;table-layout:fixed;width:100%}.frGj1b{display:block;padding:12px 0 12px 0;width:100%}.BnJWBc{text-align:center;padding:6px 0 13px 0;height:35px}.e3goi{vertical-align:top;padding:0;height:180px}.GpQGbf{margin:auto;border-collapse:collapse;border-spacing:0;width:100%}</style></head><body><style>.X6ZCif{color:#202124;font-size:11px;line-height:16px;display:inline-block;padding-top:2px;overflow:hidden;padding-bottom:4px;width:100%}.TwVfHd{border-radius:16px;border:thin solid #dadce0;display:inline-block;padding:8px 8px;margin-right:8px;margin-bottom:4px}.yekiAe{background-color:#dadce0}.jjVJ4e{width:100%}.ezO2md{border:thin solid #dadce0;padding:12px 16px 12px 16px;margin-bottom:10px;font-family:arial,sans-serif}.lIMUZd{font-family:arial,sans-serif}.RntSmf{border-spacing:0}.lgD2Tc{width:100%}.SpelHe{text-align:center}.SpelHe{position:relative}.deHqpb{bottom:0;left:0;margin:auto;position:absolute;right:0;top:0}.kCmkOe{position:relative}.ID6Z3b{background-image:url(https://www.gstatic.com/search_trustx/visibility_off_icon_p0-7d897bf44bafe5436baa9009e8716337.png);background-repeat:no-repeat;background-position:center;background-size:20px}.kCmkOe{width:162px;height:140px;line-height:140px;overflow:'hidden';text-align:center}.DS1iW{text-align:center;margin:auto;vertical-align:middle;max-width:162px;max-height:140px}.AlD19d{padding-top:2px;padding-bottom:8px;}.fYyStc{word-break:break-word}.ynsChf{display:block;white-space:nowrap;overflow:hidden;text-overflow:ellipsis}.Fj3V3b{color:#1967d2;font-size:14px;line-height:20px}.FrIlee{color:#202124;font-size:11px;line-height:16px}.F9iS2e{color:#70757a;font-size:11px;line-height:16px}.WMQ2Le{color:#70757a;font-size:12px;line-height:16px}.x3G5ab{color:#202124;font-size:12px;line-height:16px}.fuLhoc{color:#1967d2;font-size:16px;line-height:20px}.epoveb{font-size:24px;line-height:28px;font-weight:400;color:#202124}.dXDvrc{color:#0d652d;font-size:14px;line-height:20px;word-wrap:break-word}.dloBPe{font-weight:bold}.YVIcad{color:#70757a}.JkVVdd{color:#ea4335}.oXZRFd{color:#ea4335}.MQHtg{color:#fbbc04}.pyMRrb{color:#1e8e3e}.EtTZid{color:#1e8e3e}.M3vVJe{color:#1967d2}.qXLe6d{display:block}.NHQNef{font-style:italic}.Cb8Z7c{white-space:pre}a.ZWRArf{text-decoration:none}a .CVA68e:hover{text-decoration:underline}</style><div class=\"n692Zd\"><div class=\"BnJWBc\"><a class=\"lXLRf\" href=\"/?sca_esv=568706873&amp;bih=651&amp;biw=1366&amp;rlz=1C1VDKB_enIN981IN981&amp;output=images&amp;ie=UTF-8&amp;tbm=isch&amp;sa=X&amp;ved=0ahUKEwiQp7aE4smBAxXEhlYBHdlhDhoQPAgC\"><img alt=\"Google\" class=\"kgJEQe\" src=\"/images/branding/searchlogo/1x/googlelogo_desk_heirloom_color_150x55dp.gif\"/></a></div><div class=\"FbhRzb\"><form action=\"/search\"><input name=\"sca_esv\" type=\"hidden\" value=\"568706873\"/><input name=\"bih\" type=\"hidden\" value=\"651\"/><input name=\"biw\" type=\"hidden\" value=\"1366\"/><input name=\"rlz\" type=\"hidden\" value=\"1C1VDKB_enIN981IN981\"/><input name=\"ie\" type=\"hidden\" value=\"ISO-8859-1\"/><input name=\"tbm\" type=\"hidden\" value=\"isch\"/><input name=\"oq\" type=\"hidden\"/><input name=\"aqs\" type=\"hidden\"/><table class=\"cvifge\"><tr><td class=\"O4cRJf\"><input class=\"MhzMZd\" name=\"q\" type=\"text\" value=\"Narendra modi\"/></td><td class=\"O1ePr\"><input class=\"xB0fq\" type=\"submit\" value=\"Search\"/></td></tr></table></form></div><div class=\"M7pB2\"><table class=\"euZec\"><tbody><tr><td><a class=\"CsQyDc\" href=\"/search?q=Narendra+modi&amp;sca_esv=568706873&amp;bih=651&amp;biw=1366&amp;rlz=1C1VDKB_enIN981IN981&amp;ie=UTF-8&amp;source=lnms&amp;sa=X&amp;ved=0ahUKEwiQp7aE4smBAxXEhlYBHdlhDhoQ_AUIBCgA\">ALL</a></td><td><a class=\"CsQyDc\" href=\"/search?q=Narendra+modi&amp;sca_esv=568706873&amp;bih=651&amp;biw=1366&amp;rlz=1C1VDKB_enIN981IN981&amp;ie=UTF-8&amp;tbm=nws&amp;source=lnms&amp;sa=X&amp;ved=0ahUKEwiQp7aE4smBAxXEhlYBHdlhDhoQ_AUIBSgB\">NEWS</a></td><td class=\"EY24We\"><span class=\"QIqI7\">IMAGES</span></td><td><a class=\"CsQyDc\" href=\"/search?q=Narendra+modi&amp;sca_esv=568706873&amp;bih=651&amp;biw=1366&amp;rlz=1C1VDKB_enIN981IN981&amp;ie=UTF-8&amp;tbm=vid&amp;source=lnms&amp;sa=X&amp;ved=0ahUKEwiQp7aE4smBAxXEhlYBHdlhDhoQ_AUIBygD\">VIDEOS</a></td></tr></tbody></table></div></div><div class=\"X6ZCif\"><a class=\"TwVfHd\" href=\"/search?sca_esv=568706873&amp;bih=651&amp;biw=1366&amp;rlz=1C1VDKB_enIN981IN981&amp;ie=UTF-8&amp;tbm=isch&amp;q=Narendra+modi&amp;chips=q:narendra+modi,g_1:prime+minister&amp;sa=X&amp;ved=0ahUKEwiQp7aE4smBAxXEhlYBHdlhDhoQ4lYICygA\">prime minister</a><a class=\"TwVfHd\" href=\"/search?sca_esv=568706873&amp;bih=651&amp;biw=1366&amp;rlz=1C1VDKB_enIN981IN981&amp;ie=UTF-8&amp;tbm=isch&amp;q=Narendra+modi&amp;chips=q:narendra+modi,g_1:wallpaper&amp;sa=X&amp;ved=0ahUKEwiQp7aE4smBAxXEhlYBHdlhDhoQ4lYIDCgB\">wallpaper</a><a class=\"TwVfHd\" href=\"/search?sca_esv=568706873&amp;bih=651&amp;biw=1366&amp;rlz=1C1VDKB_enIN981IN981&amp;ie=UTF-8&amp;tbm=isch&amp;q=Narendra+modi&amp;chips=q:narendra+modi,g_1:india&amp;sa=X&amp;ved=0ahUKEwiQp7aE4smBAxXEhlYBHdlhDhoQ4lYIDSgC\">india</a><a class=\"TwVfHd\" href=\"/search?sca_esv=568706873&amp;bih=651&amp;biw=1366&amp;rlz=1C1VDKB_enIN981IN981&amp;ie=UTF-8&amp;tbm=isch&amp;q=Narendra+modi&amp;chips=q:narendra+modi,g_1:childhood&amp;sa=X&amp;ved=0ahUKEwiQp7aE4smBAxXEhlYBHdlhDhoQ4lYIDigD\">childhood</a><a class=\"TwVfHd\" href=\"/search?sca_esv=568706873&amp;bih=651&amp;biw=1366&amp;rlz=1C1VDKB_enIN981IN981&amp;ie=UTF-8&amp;tbm=isch&amp;q=Narendra+modi&amp;chips=q:narendra+modi,g_1:drawing&amp;sa=X&amp;ved=0ahUKEwiQp7aE4smBAxXEhlYBHdlhDhoQ4lYIDygE\">drawing</a><a class=\"TwVfHd\" href=\"/search?sca_esv=568706873&amp;bih=651&amp;biw=1366&amp;rlz=1C1VDKB_enIN981IN981&amp;ie=UTF-8&amp;tbm=isch&amp;q=Narendra+modi&amp;chips=q:narendra+modi,g_1:house&amp;sa=X&amp;ved=0ahUKEwiQp7aE4smBAxXEhlYBHdlhDhoQ4lYIECgF\">house</a><a class=\"TwVfHd\" href=\"/search?sca_esv=568706873&amp;bih=651&amp;biw=1366&amp;rlz=1C1VDKB_enIN981IN981&amp;ie=UTF-8&amp;tbm=isch&amp;q=Narendra+modi&amp;chips=q:narendra+modi,g_1:independence+day&amp;sa=X&amp;ved=0ahUKEwiQp7aE4smBAxXEhlYBHdlhDhoQ4lYIESgG\">independence day</a><a class=\"TwVfHd\" href=\"/search?sca_esv=568706873&amp;bih=651&amp;biw=1366&amp;rlz=1C1VDKB_enIN981IN981&amp;ie=UTF-8&amp;tbm=isch&amp;q=Narendra+modi&amp;chips=q:narendra+modi,g_1:new&amp;sa=X&amp;ved=0ahUKEwiQp7aE4smBAxXEhlYBHdlhDhoQ4lYIEigH\">new</a><a class=\"TwVfHd\" href=\"/search?sca_esv=568706873&amp;bih=651&amp;biw=1366&amp;rlz=1C1VDKB_enIN981IN981&amp;ie=UTF-8&amp;tbm=isch&amp;q=Narendra+modi&amp;chips=q:narendra+modi,g_1:painting&amp;sa=X&amp;ved=0ahUKEwiQp7aE4smBAxXEhlYBHdlhDhoQ4lYIEygI\">painting</a><a class=\"TwVfHd\" href=\"/search?sca_esv=568706873&amp;bih=651&amp;biw=1366&amp;rlz=1C1VDKB_enIN981IN981&amp;ie=UTF-8&amp;tbm=isch&amp;q=Narendra+modi&amp;chips=q:narendra+modi,g_1:birthday&amp;sa=X&amp;ved=0ahUKEwiQp7aE4smBAxXEhlYBHdlhDhoQ4lYIFCgJ\">birthday</a></div><div><table class=\"GpQGbf\"><tr><td align=\"center\" class=\"e3goi\"><div class=\"jjVJ4e\"> <div> <div class=\"lIMUZd\"><div><table class=\"RntSmf\"><tr><td><a href=\"/url?q=https://www.facebook.com/narendramodi/&amp;sa=U&amp;ved=2ahUKEwiQp7aE4smBAxXEhlYBHdlhDhoQqoUBegQIAhAB&amp;usg=AOvVaw11yml24q3vm_MxLWbMx5VN\"><div class=\"kCmkOe\"><img alt=\"\" class=\"DS1iW\" src=\"https://encrypted-tbn0.gstatic.com/images?q=tbn:ANd9GcRJqHzg9DJJPRbcFIrzl2LM_9PxyNSoyVF4mC09eVrcfdfo_5-dY8IApJu0MEM&amp;s\"/></div></a></td></tr><tr><td><a href=\"/url?q=https://www.facebook.com/narendramodi/&amp;sa=U&amp;ved=2ahUKEwiQp7aE4smBAxXEhlYBHdlhDhoQr4kDegQIAhAC&amp;usg=AOvVaw1-PYXYLqYuQRJGR_rNalTW\"><div class=\"AlD19d\"> <span class=\"qXLe6d x3G5ab\"> <span class=\"fYyStc\">Narendra Modi</span> </span> <span class=\"qXLe6d F9iS2e\"> <span class=\"fYyStc\">www.facebook.com</span> </span> </div></a></td></tr></table></div></div> </div> </div></td><td align=\"center\" class=\"e3goi\"><div class=\"jjVJ4e\"> <div> <div class=\"lIMUZd\"><div><table class=\"RntSmf\"><tr><td><a href=\"/url?q=https://en.wikipedia.org/wiki/Narendra_Modi&amp;sa=U&amp;ved=2ahUKEwiQp7aE4smBAxXEhlYBHdlhDhoQqoUBegQIEhAB&amp;usg=AOvVaw3sJzCF5kwOzo-E8vqaWqbN\"><div class=\"kCmkOe\"><img alt=\"\" class=\"DS1iW\" src=\"https://encrypted-tbn0.gstatic.com/images?q=tbn:ANd9GcTw7G48FnLNCO2gGjMABD7W_0PPI2v9HQts8jXdtqEomxahKG15PaUEOEo2H3U&amp;s\"/></div></a></td></tr><tr><td><a href=\"/url?q=https://en.wikipedia.org/wiki/Narendra_Modi&amp;sa=U&amp;ved=2ahUKEwiQp7aE4smBAxXEhlYBHdlhDhoQr4kDegQIEhAC&amp;usg=AOvVaw2ketwZKhcbVG-UaetgZNR8\"><div class=\"AlD19d\"> <span class=\"qXLe6d x3G5ab\"> <span class=\"fYyStc\">Narendra Modi - Wikipedia</span> </span> <span class=\"qXLe6d F9iS2e\"> <span class=\"fYyStc\">en.wikipedia.org</span> </span> </div></a></td></tr></table></div></div> </div> </div></td><td align=\"center\" class=\"e3goi\"><div class=\"jjVJ4e\"> <div> <div class=\"lIMUZd\"><div><table class=\"RntSmf\"><tr><td><a href=\"/url?q=https://in.linkedin.com/in/narendramodi&amp;sa=U&amp;ved=2ahUKEwiQp7aE4smBAxXEhlYBHdlhDhoQqoUBegQIExAB&amp;usg=AOvVaw0wboKZlBca2bMBMtOtVeVG\"><div class=\"kCmkOe\"><img alt=\"\" class=\"DS1iW\" src=\"https://encrypted-tbn0.gstatic.com/images?q=tbn:ANd9GcQVPxSCEIg_M8FyTMpCLU22_alJtuBvdPCyQp5IdnRqkyHGgZJ5LmxApXd7LQ&amp;s\"/></div></a></td></tr><tr><td><a href=\"/url?q=https://in.linkedin.com/in/narendramodi&amp;sa=U&amp;ved=2ahUKEwiQp7aE4smBAxXEhlYBHdlhDhoQr4kDegQIExAC&amp;usg=AOvVaw0ZYPE1C3jfpjqnIsTQosOX\"><div class=\"AlD19d\"> <span class=\"qXLe6d x3G5ab\"> <span class=\"fYyStc\">Narendra Modi - Prime...</span> </span> <span class=\"qXLe6d F9iS2e\"> <span class=\"fYyStc\">in.linkedin.com</span> </span> </div></a></td></tr></table></div></div> </div> </div></td><td align=\"center\" class=\"e3goi\"><div class=\"jjVJ4e\"> <div> <div class=\"lIMUZd\"><div><table class=\"RntSmf\"><tr><td><a href=\"/url?q=https://www.shutterstock.com/search/modi-india&amp;sa=U&amp;ved=2ahUKEwiQp7aE4smBAxXEhlYBHdlhDhoQqoUBegQIEBAB&amp;usg=AOvVaw06aB50EMHLDNtFXNj-fGsU\"><div class=\"kCmkOe\"><img alt=\"\" class=\"DS1iW\" src=\"https://encrypted-tbn0.gstatic.com/images?q=tbn:ANd9GcQOC16lojwwVZNKwYe49beCE4q3cnMxTCLpwEtArDSmauHXy3UHN_mAQ1GA2YE&amp;s\"/></div></a></td></tr><tr><td><a href=\"/url?q=https://www.shutterstock.com/search/modi-india&amp;sa=U&amp;ved=2ahUKEwiQp7aE4smBAxXEhlYBHdlhDhoQr4kDegQIEBAC&amp;usg=AOvVaw2zQ3egTKZb61KvvaKo_zBJ\"><div class=\"AlD19d\"> <span class=\"qXLe6d x3G5ab\"> <span class=\"fYyStc\">8,658 Modi India Images,...</span> </span> <span class=\"qXLe6d F9iS2e\"> <span class=\"fYyStc\">www.shutterstock.com</span> </span> </div></a></td></tr></table></div></div> </div> </div></td></tr><tr><td align=\"center\" class=\"e3goi\"><div class=\"jjVJ4e\"> <div> <div class=\"lIMUZd\"><div><table class=\"RntSmf\"><tr><td><a href=\"/url?q=https://currentaffairs.adda247.com/narendra-modi-biography-age-full-name-family-wife-qualification-net-worth-twitter/&amp;sa=U&amp;ved=2ahUKEwiQp7aE4smBAxXEhlYBHdlhDhoQqoUBegQIERAB&amp;usg=AOvVaw3ciKwD-tVMkqgxJRxUJ-49\"><div class=\"kCmkOe\"><img alt=\"\" class=\"DS1iW\" src=\"https://encrypted-tbn0.gstatic.com/images?q=tbn:ANd9GcT-i6AxoBM1fRwZs2QaHjH5JqGggwz7b6unCv4L23TZOD2awD69-2gZotIXdA&amp;s\"/></div></a></td></tr><tr><td><a href=\"/url?q=https://currentaffairs.adda247.com/narendra-modi-biography-age-full-name-family-wife-qualification-net-worth-twitter/&amp;sa=U&amp;ved=2ahUKEwiQp7aE4smBAxXEhlYBHdlhDhoQr4kDegQIERAC&amp;usg=AOvVaw3uRYglMEFkRkQwK146l6eQ\"><div class=\"AlD19d\"> <span class=\"qXLe6d x3G5ab\"> <span class=\"fYyStc\">Narendra Modi Age- Full...</span> </span> <span class=\"qXLe6d F9iS2e\"> <span class=\"fYyStc\">currentaffairs.adda247.com</span> </span> </div></a></td></tr></table></div></div> </div> </div></td><td align=\"center\" class=\"e3goi\"><div class=\"jjVJ4e\"> <div> <div class=\"lIMUZd\"><div><table class=\"RntSmf\"><tr><td><a href=\"/url?q=https://m.economictimes.com/news/india/pm-narendra-modi-to-address-fedex-mastercard-other-us-ceos-at-kennedy-center-source/articleshow/101043626.cms&amp;sa=U&amp;ved=2ahUKEwiQp7aE4smBAxXEhlYBHdlhDhoQqoUBegQIDxAB&amp;usg=AOvVaw31xRMTKBRX6I2ygGhrVEFy\"><div class=\"kCmkOe\"><img alt=\"\" class=\"DS1iW\" src=\"https://encrypted-tbn0.gstatic.com/images?q=tbn:ANd9GcSfL0MTXvWlvnhsVD_Sf2L6AVqSt4ajLrbBgHOsIcRVRbj7w03kUEZ4duAgyA&amp;s\"/></div></a></td></tr><tr><td><a href=\"/url?q=https://m.economictimes.com/news/india/pm-narendra-modi-to-address-fedex-mastercard-other-us-ceos-at-kennedy-center-source/articleshow/101043626.cms&amp;sa=U&amp;ved=2ahUKEwiQp7aE4smBAxXEhlYBHdlhDhoQr4kDegQIDxAC&amp;usg=AOvVaw3OCpEqDIysrZBpoG7daWV0\"><div class=\"AlD19d\"> <span class=\"qXLe6d x3G5ab\"> <span class=\"fYyStc\">modi in us: PM Narendra...</span> </span> <span class=\"qXLe6d F9iS2e\"> <span class=\"fYyStc\">m.economictimes.com</span> </span> </div></a></td></tr></table></div></div> </div> </div></td><td align=\"center\" class=\"e3goi\"><div class=\"jjVJ4e\"> <div> <div class=\"lIMUZd\"><div><table class=\"RntSmf\"><tr><td><a href=\"/url?q=https://www.thestatesman.com/india/from-an-ordinary-man-to-vikas-purush-narendra-modis-inspirational-journey-1503111918.html&amp;sa=U&amp;ved=2ahUKEwiQp7aE4smBAxXEhlYBHdlhDhoQqoUBegQIDBAB&amp;usg=AOvVaw3SAuUOSgngNC-gKMRIQJxC\"><div class=\"kCmkOe\"><img alt=\"\" class=\"DS1iW\" src=\"https://encrypted-tbn0.gstatic.com/images?q=tbn:ANd9GcTJQhVDWcv65kzjWZ1JY7_9c3Bv4eWzcsiTRmjfzf_jTLpsv6-TjLzgeWjRsZI&amp;s\"/></div></a></td></tr><tr><td><a href=\"/url?q=https://www.thestatesman.com/india/from-an-ordinary-man-to-vikas-purush-narendra-modis-inspirational-journey-1503111918.html&amp;sa=U&amp;ved=2ahUKEwiQp7aE4smBAxXEhlYBHdlhDhoQr4kDegQIDBAC&amp;usg=AOvVaw1rWYn0rQ441W59BqBaMje0\"><div class=\"AlD19d\"> <span class=\"qXLe6d x3G5ab\"> <span class=\"fYyStc\">From an ordinary man to...</span> </span> <span class=\"qXLe6d F9iS2e\"> <span class=\"fYyStc\">www.thestatesman.com</span> </span> </div></a></td></tr></table></div></div> </div> </div></td><td align=\"center\" class=\"e3goi\"><div class=\"jjVJ4e\"> <div> <div class=\"lIMUZd\"><div><table class=\"RntSmf\"><tr><td><a href=\"/url?q=https://www.hindustantimes.com/india-news/congress-with-urban-naxalites-party-run-like-a-company-pm-modi-in-bhopal-101695635585491.html&amp;sa=U&amp;ved=2ahUKEwiQp7aE4smBAxXEhlYBHdlhDhoQqoUBegQIDRAB&amp;usg=AOvVaw2c6FaW38AGT9lWmkG2LKJy\"><div class=\"kCmkOe\"><img alt=\"\" class=\"DS1iW\" src=\"https://encrypted-tbn0.gstatic.com/images?q=tbn:ANd9GcSDblPSM39vbs1dB3QaZsxwoDuxrKmBN69s9nW6NVinFjhqa6bOkyp2UxkeNAM&amp;s\"/></div></a></td></tr><tr><td><a href=\"/url?q=https://www.hindustantimes.com/india-news/congress-with-urban-naxalites-party-run-like-a-company-pm-modi-in-bhopal-101695635585491.html&amp;sa=U&amp;ved=2ahUKEwiQp7aE4smBAxXEhlYBHdlhDhoQr4kDegQIDRAC&amp;usg=AOvVaw1_c2nZTc_ASNT2pE0Y4a8I\"><div class=\"AlD19d\"> <span class=\"qXLe6d x3G5ab\"> <span class=\"fYyStc\">Congress with urban...</span> </span> <span class=\"qXLe6d F9iS2e\"> <span class=\"fYyStc\">www.hindustantimes.com</span> </span> </div></a></td></tr></table></div></div> </div> </div></td></tr><tr><td align=\"center\" class=\"e3goi\"><div class=\"jjVJ4e\"> <div> <div class=\"lIMUZd\"><div><table class=\"RntSmf\"><tr><td><a href=\"/url?q=https://www.livelaw.in/top-stories/legal-language-must-be-simplified-common-man-should-feel-law-is-his-own-prime-minister-narendra-modi-238502&amp;sa=U&amp;ved=2ahUKEwiQp7aE4smBAxXEhlYBHdlhDhoQqoUBegQIDhAB&amp;usg=AOvVaw1WXjhGHhWLelGU_QsHtDb7\"><div class=\"kCmkOe\"><img alt=\"\" class=\"DS1iW\" src=\"https://encrypted-tbn0.gstatic.com/images?q=tbn:ANd9GcRwtnGmI63UUqyjoUGxw9w8b91nfD8yRSsa3narkcLLXCWLzVjgdXHOxr2ilQ&amp;s\"/></div></a></td></tr><tr><td><a href=\"/url?q=https://www.livelaw.in/top-stories/legal-language-must-be-simplified-common-man-should-feel-law-is-his-own-prime-minister-narendra-modi-238502&amp;sa=U&amp;ved=2ahUKEwiQp7aE4smBAxXEhlYBHdlhDhoQr4kDegQIDhAC&amp;usg=AOvVaw1h7eDemhtVbniKODffA2Bi\"><div class=\"AlD19d\"> <span class=\"qXLe6d x3G5ab\"> <span class=\"fYyStc\">Legal Language Must Be...</span> </span> <span class=\"qXLe6d F9iS2e\"> <span class=\"fYyStc\">www.livelaw.in</span> </span> </div></a></td></tr></table></div></div> </div> </div></td><td align=\"center\" class=\"e3goi\"><div class=\"jjVJ4e\"> <div> <div class=\"lIMUZd\"><div><table class=\"RntSmf\"><tr><td><a href=\"/url?q=https://www.livemint.com/news/pm-modi-to-deliver-10th-consecutive-independence-day-address-what-to-expect-11692021636334.html&amp;sa=U&amp;ved=2ahUKEwiQp7aE4smBAxXEhlYBHdlhDhoQqoUBegQICxAB&amp;usg=AOvVaw3pL2yuP0muT0QjFkT88_tD\"><div class=\"kCmkOe\"><img alt=\"\" class=\"DS1iW\" src=\"https://encrypted-tbn0.gstatic.com/images?q=tbn:ANd9GcRuSom3tU-G3wX6VYdnz51qxFTHuyY8k2c4L9tERQ3PJLHIa1YS_O3FTAj87Q&amp;s\"/></div></a></td></tr><tr><td><a href=\"/url?q=https://www.livemint.com/news/pm-modi-to-deliver-10th-consecutive-independence-day-address-what-to-expect-11692021636334.html&amp;sa=U&amp;ved=2ahUKEwiQp7aE4smBAxXEhlYBHdlhDhoQr4kDegQICxAC&amp;usg=AOvVaw2gsvN2Yt13gGWmQOtALn6s\"><div class=\"AlD19d\"> <span class=\"qXLe6d x3G5ab\"> <span class=\"fYyStc\">PM Modi to deliver 10th...</span> </span> <span class=\"qXLe6d F9iS2e\"> <span class=\"fYyStc\">www.livemint.com</span> </span> </div></a></td></tr></table></div></div> </div> </div></td><td align=\"center\" class=\"e3goi\"><div class=\"jjVJ4e\"> <div> <div class=\"lIMUZd\"><div><table class=\"RntSmf\"><tr><td><a href=\"/url?q=https://www.thenewsminute.com/karnataka/pm-modi-visit-bengaluru-congratulate-isro-scientists-bjp-hold-roadshow-181503&amp;sa=U&amp;ved=2ahUKEwiQp7aE4smBAxXEhlYBHdlhDhoQqoUBegQICRAB&amp;usg=AOvVaw1CVRRo9Dr8CsbJxsAMiQUN\"><div class=\"kCmkOe\"><img alt=\"\" class=\"DS1iW\" src=\"https://encrypted-tbn0.gstatic.com/images?q=tbn:ANd9GcRqQvqg2PLfEo5o-6GTFg0YCqk4wyoxJPKcj92yzVP1XNdvUQ2SpU_NqfX9joA&amp;s\"/></div></a></td></tr><tr><td><a href=\"/url?q=https://www.thenewsminute.com/karnataka/pm-modi-visit-bengaluru-congratulate-isro-scientists-bjp-hold-roadshow-181503&amp;sa=U&amp;ved=2ahUKEwiQp7aE4smBAxXEhlYBHdlhDhoQr4kDegQICRAC&amp;usg=AOvVaw1qQfEXrdBtssgSdtpim8oa\"><div class=\"AlD19d\"> <span class=\"qXLe6d x3G5ab\"> <span class=\"fYyStc\">PM Modi to visit Bengaluru...</span> </span> <span class=\"qXLe6d F9iS2e\"> <span class=\"fYyStc\">www.thenewsminute.com</span> </span> </div></a></td></tr></table></div></div> </div> </div></td><td align=\"center\" class=\"e3goi\"><div class=\"jjVJ4e\"> <div> <div class=\"lIMUZd\"><div><table class=\"RntSmf\"><tr><td><a href=\"/url?q=https://www.indiatoday.in/india/story/pm-modi-birthday-sanitation-drives-health-camps-bjp-1853679-2021-09-16&amp;sa=U&amp;ved=2ahUKEwiQp7aE4smBAxXEhlYBHdlhDhoQqoUBegQIChAB&amp;usg=AOvVaw1XDBawcJvo9TM9JMmUZWEx\"><div class=\"kCmkOe\"><img alt=\"\" class=\"DS1iW\" src=\"https://encrypted-tbn0.gstatic.com/images?q=tbn:ANd9GcTBSwvSwKBlRUAZkr67W5xPjJZdtX_JFgPraEBWMDlX0ssY_VPVyjrwN7DkRA&amp;s\"/></div></a></td></tr><tr><td><a href=\"/url?q=https://www.indiatoday.in/india/story/pm-modi-birthday-sanitation-drives-health-camps-bjp-1853679-2021-09-16&amp;sa=U&amp;ved=2ahUKEwiQp7aE4smBAxXEhlYBHdlhDhoQr4kDegQIChAC&amp;usg=AOvVaw1SkldegrvElUKOqiu4mhGk\"><div class=\"AlD19d\"> <span class=\"qXLe6d x3G5ab\"> <span class=\"fYyStc\">PM Modi's 71st birthday...</span> </span> <span class=\"qXLe6d F9iS2e\"> <span class=\"fYyStc\">www.indiatoday.in</span> </span> </div></a></td></tr></table></div></div> </div> </div></td></tr><tr><td align=\"center\" class=\"e3goi\"><div class=\"jjVJ4e\"> <div> <div class=\"lIMUZd\"><div><table class=\"RntSmf\"><tr><td><a href=\"/url?q=https://www.hindustantimes.com/india-news/chandrayaan3-pm-modi-to-visit-bengaluru-on-august-26-to-congratulate-isro-team-101692887756286.html&amp;sa=U&amp;ved=2ahUKEwiQp7aE4smBAxXEhlYBHdlhDhoQqoUBegQICBAB&amp;usg=AOvVaw0l4ddbfT8o56PF_5KgLSiF\"><div class=\"kCmkOe\"><img alt=\"\" class=\"DS1iW\" src=\"https://encrypted-tbn0.gstatic.com/images?q=tbn:ANd9GcQn0b57rRS4utjHPAV19UdbsS5uUBX8Ul5zX1MMCJl9zKzsvz1nPezUuidLSQ&amp;s\"/></div></a></td></tr><tr><td><a href=\"/url?q=https://www.hindustantimes.com/india-news/chandrayaan3-pm-modi-to-visit-bengaluru-on-august-26-to-congratulate-isro-team-101692887756286.html&amp;sa=U&amp;ved=2ahUKEwiQp7aE4smBAxXEhlYBHdlhDhoQr4kDegQICBAC&amp;usg=AOvVaw1uEa38nKsG7PFk92ewYPj0\"><div class=\"AlD19d\"> <span class=\"qXLe6d x3G5ab\"> <span class=\"fYyStc\">Chandrayaan-3: PM Modi to...</span> </span> <span class=\"qXLe6d F9iS2e\"> <span class=\"fYyStc\">www.hindustantimes.com</span> </span> </div></a></td></tr></table></div></div> </div> </div></td><td align=\"center\" class=\"e3goi\"><div class=\"jjVJ4e\"> <div> <div class=\"lIMUZd\"><div><table class=\"RntSmf\"><tr><td><a href=\"/url?q=https://www.livemint.com/news/india/pm-modi-to-attend-15th-brics-summit-in-south-africa-today-11692665226740.html&amp;sa=U&amp;ved=2ahUKEwiQp7aE4smBAxXEhlYBHdlhDhoQqoUBegQIAxAB&amp;usg=AOvVaw24lrj6un-PYlZ2FY7sYCNG\"><div class=\"kCmkOe\"><img alt=\"\" class=\"DS1iW\" src=\"https://encrypted-tbn0.gstatic.com/images?q=tbn:ANd9GcRGMXxYjlv5kEkB17NUmx35-6JcaPxpkQEQK13RSnND1Jm5bx_exGeibNqw9PI&amp;s\"/></div></a></td></tr><tr><td><a href=\"/url?q=https://www.livemint.com/news/india/pm-modi-to-attend-15th-brics-summit-in-south-africa-today-11692665226740.html&amp;sa=U&amp;ved=2ahUKEwiQp7aE4smBAxXEhlYBHdlhDhoQr4kDegQIAxAC&amp;usg=AOvVaw1rhLUQFClp4dirYoLSUAOq\"><div class=\"AlD19d\"> <span class=\"qXLe6d x3G5ab\"> <span class=\"fYyStc\">PM Modi to attend 15th...</span> </span> <span class=\"qXLe6d F9iS2e\"> <span class=\"fYyStc\">www.livemint.com</span> </span> </div></a></td></tr></table></div></div> </div> </div></td><td align=\"center\" class=\"e3goi\"><div class=\"jjVJ4e\"> <div> <div class=\"lIMUZd\"><div><table class=\"RntSmf\"><tr><td><a href=\"/url?q=https://health.economictimes.indiatimes.com/news/policy/mann-ki-baat-pm-narendra-modi-asks-citizens-to-be-vigilant-amid-rising-covid-cases/96493868&amp;sa=U&amp;ved=2ahUKEwiQp7aE4smBAxXEhlYBHdlhDhoQqoUBegQIABAB&amp;usg=AOvVaw3UpWGpz-tMEv4YJfDTu374\"><div class=\"kCmkOe\"><img alt=\"\" class=\"DS1iW\" src=\"https://encrypted-tbn0.gstatic.com/images?q=tbn:ANd9GcRK3L9xVMRO33pU3RwecMjUkWx-VAfsLFx2LAiyXPcSodnD6C0dbg093hkepw&amp;s\"/></div></a></td></tr><tr><td><a href=\"/url?q=https://health.economictimes.indiatimes.com/news/policy/mann-ki-baat-pm-narendra-modi-asks-citizens-to-be-vigilant-amid-rising-covid-cases/96493868&amp;sa=U&amp;ved=2ahUKEwiQp7aE4smBAxXEhlYBHdlhDhoQr4kDegQIABAC&amp;usg=AOvVaw2IZn-AGpzaWvuTUzXJldMR\"><div class=\"AlD19d\"> <span class=\"qXLe6d x3G5ab\"> <span class=\"fYyStc\">Mann ki Baat: PM Narendra...</span> </span> <span class=\"qXLe6d F9iS2e\"> <span class=\"fYyStc\">health.economictimes.indiat...</span> </span> </div></a></td></tr></table></div></div> </div> </div></td><td align=\"center\" class=\"e3goi\"><div class=\"jjVJ4e\"> <div> <div class=\"lIMUZd\"><div><table class=\"RntSmf\"><tr><td><a href=\"/url?q=https://m.timesofindia.com/city/jaipur/pm-to-address-rally-in-jaipur-today/articleshow/103921301.cms&amp;sa=U&amp;ved=2ahUKEwiQp7aE4smBAxXEhlYBHdlhDhoQqoUBegQIBBAB&amp;usg=AOvVaw3yIgUhOMQQSBa3wH9yPMK4\"><div class=\"kCmkOe\"><img alt=\"\" class=\"DS1iW\" src=\"https://encrypted-tbn0.gstatic.com/images?q=tbn:ANd9GcS19sRa5qkk9BKFcG2vQB3L1O0Y6HeIxI2GjCmt6nPV8RuN4PzOszdowMSzEA&amp;s\"/></div></a></td></tr><tr><td><a href=\"/url?q=https://m.timesofindia.com/city/jaipur/pm-to-address-rally-in-jaipur-today/articleshow/103921301.cms&amp;sa=U&amp;ved=2ahUKEwiQp7aE4smBAxXEhlYBHdlhDhoQr4kDegQIBBAC&amp;usg=AOvVaw3ZgetHhD2xKm-qZDlhWWeV\"><div class=\"AlD19d\"> <span class=\"qXLe6d x3G5ab\"> <span class=\"fYyStc\">Modi in Jaipur: PM Narendra...</span> </span> <span class=\"qXLe6d F9iS2e\"> <span class=\"fYyStc\">m.timesofindia.com</span> </span> </div></a></td></tr></table></div></div> </div> </div></td></tr><tr><td align=\"center\" class=\"e3goi\"><div class=\"jjVJ4e\"> <div> <div class=\"lIMUZd\"><div><table class=\"RntSmf\"><tr><td><a href=\"/url?q=https://pmindia.gov.in/&amp;sa=U&amp;ved=2ahUKEwiQp7aE4smBAxXEhlYBHdlhDhoQqoUBegQIBRAB&amp;usg=AOvVaw2ZCduFJZq9kaQ1VpGIXwlA\"><div class=\"kCmkOe\"><img alt=\"\" class=\"DS1iW\" src=\"https://encrypted-tbn0.gstatic.com/images?q=tbn:ANd9GcSae8BSQxliATNPGCwQrQJKhlqjVZbFrP2D6yEfMMqyPPi7RvL0p2awsH_C7ck&amp;s\"/></div></a></td></tr><tr><td><a href=\"/url?q=https://pmindia.gov.in/&amp;sa=U&amp;ved=2ahUKEwiQp7aE4smBAxXEhlYBHdlhDhoQr4kDegQIBRAC&amp;usg=AOvVaw37p5-9_jvHu7uVN21CuM94\"><div class=\"AlD19d\"> <span class=\"qXLe6d x3G5ab\"> <span class=\"fYyStc\">Prime Minister of India</span> </span> <span class=\"qXLe6d F9iS2e\"> <span class=\"fYyStc\">pmindia.gov.in</span> </span> </div></a></td></tr></table></div></div> </div> </div></td><td align=\"center\" class=\"e3goi\"><div class=\"jjVJ4e\"> <div> <div class=\"lIMUZd\"><div><table class=\"RntSmf\"><tr><td><a href=\"/url?q=https://indianexpress.com/about/narendra-modi/&amp;sa=U&amp;ved=2ahUKEwiQp7aE4smBAxXEhlYBHdlhDhoQqoUBegQIARAB&amp;usg=AOvVaw0tkjXbX_Y4y8ej5j1Z63A3\"><div class=\"kCmkOe\"><img alt=\"\" class=\"DS1iW\" src=\"https://encrypted-tbn0.gstatic.com/images?q=tbn:ANd9GcQhHSpPmlyTmHx7g8uA2ovzLZJCySoxuTkyoTz-rCgoUHCEKQfuV8EmTcYoHjk&amp;s\"/></div></a></td></tr><tr><td><a href=\"/url?q=https://indianexpress.com/about/narendra-modi/&amp;sa=U&amp;ved=2ahUKEwiQp7aE4smBAxXEhlYBHdlhDhoQr4kDegQIARAC&amp;usg=AOvVaw1tbVzahfpQnghHjVyDPjRL\"><div class=\"AlD19d\"> <span class=\"qXLe6d x3G5ab\"> <span class=\"fYyStc\">Latest News on Narendra...</span> </span> <span class=\"qXLe6d F9iS2e\"> <span class=\"fYyStc\">indianexpress.com</span> </span> </div></a></td></tr></table></div></div> </div> </div></td><td align=\"center\" class=\"e3goi\"><div class=\"jjVJ4e\"> <div> <div class=\"lIMUZd\"><div><table class=\"RntSmf\"><tr><td><a href=\"/url?q=https://soundcloud.com/narendramodi&amp;sa=U&amp;ved=2ahUKEwiQp7aE4smBAxXEhlYBHdlhDhoQqoUBegQIBhAB&amp;usg=AOvVaw2Lc1YRUbk8FrgRFKyCCfma\"><div class=\"kCmkOe\"><img alt=\"\" class=\"DS1iW\" src=\"https://encrypted-tbn0.gstatic.com/images?q=tbn:ANd9GcSvvDz1Coxn3FAaBSTuqOzxfFMiRd2azk31NFp-pJoWVFWqOVrREzPJslf3fg&amp;s\"/></div></a></td></tr><tr><td><a href=\"/url?q=https://soundcloud.com/narendramodi&amp;sa=U&amp;ved=2ahUKEwiQp7aE4smBAxXEhlYBHdlhDhoQr4kDegQIBhAC&amp;usg=AOvVaw2_kbJaFnojlfzCnblb1zD5\"><div class=\"AlD19d\"> <span class=\"qXLe6d x3G5ab\"> <span class=\"fYyStc\">Stream Narendra Modi |...</span> </span> <span class=\"qXLe6d F9iS2e\"> <span class=\"fYyStc\">soundcloud.com</span> </span> </div></a></td></tr></table></div></div> </div> </div></td><td align=\"center\" class=\"e3goi\"><div class=\"jjVJ4e\"> <div> <div class=\"lIMUZd\"><div><table class=\"RntSmf\"><tr><td><a href=\"/url?q=https://www.zeebiz.com/india/news-pm-narendra-modi-rozgar-mela-51000-appointment-letters-karmayogi-prarambh-department-of-posts-indian-audit-accounts-atomic-energy-revenue-higher-education-defence-health-jobs-vacancy-256016&amp;sa=U&amp;ved=2ahUKEwiQp7aE4smBAxXEhlYBHdlhDhoQqoUBegQIBxAB&amp;usg=AOvVaw2-9MAn7wpjZ5Ast3DyRCwJ\"><div class=\"kCmkOe\"><img alt=\"\" class=\"DS1iW\" src=\"https://encrypted-tbn0.gstatic.com/images?q=tbn:ANd9GcRnfzpHf0kzn4I0mq35cYRiJ4Hc8K_BMhIIqBMANT2g209lufEffGe5KLAPLbU&amp;s\"/></div></a></td></tr><tr><td><a href=\"/url?q=https://www.zeebiz.com/india/news-pm-narendra-modi-rozgar-mela-51000-appointment-letters-karmayogi-prarambh-department-of-posts-indian-audit-accounts-atomic-energy-revenue-higher-education-defence-health-jobs-vacancy-256016&amp;sa=U&amp;ved=2ahUKEwiQp7aE4smBAxXEhlYBHdlhDhoQr4kDegQIBxAC&amp;usg=AOvVaw0inDcjWZsEH87T8nE3WyNL\"><div class=\"AlD19d\"> <span class=\"qXLe6d x3G5ab\"> <span class=\"fYyStc\">Rozgar Mela: PM Narendra...</span> </span> <span class=\"qXLe6d F9iS2e\"> <span class=\"fYyStc\">www.zeebiz.com</span> </span> </div></a></td></tr></table></div></div> </div> </div></td></tr></table></div><table class=\"uZgmoc\"><tbody><td><a class=\"frGj1b\" href=\"/search?q=Narendra+modi&amp;sca_esv=568706873&amp;bih=651&amp;biw=1366&amp;rlz=1C1VDKB_enIN981IN981&amp;ie=UTF-8&amp;tbm=isch&amp;ei=U5YTZdCxJsSN2roP2cO50AE&amp;start=20&amp;sa=N\">Next &gt;</a></td></tbody></table><br/><div class=\"TuS8Ad\" data-ved=\"0ahUKEwiQp7aE4smBAxXEhlYBHdlhDhoQpyoIUg\"><style>.VYM29{font-weight:bold}</style><div align=\"center\" class=\"HddGcc\"><span class=\"VYM29\">Bengaluru, Karnataka</span><span> - </span><span>From your IP address</span><span> - </span><a href=\"/url?q=https://support.google.com/websearch%3Fp%3Dws_settings_location%26hl%3Den-IN&amp;opi=89978449&amp;sa=U&amp;ved=0ahUKEwiQp7aE4smBAxXEhlYBHdlhDhoQty4IUw&amp;usg=AOvVaw0hg2B1xgJodGttjGl4oZnY\">Learn more</a></div><div align=\"center\"><a class=\"rEM8G\" href=\"/url?q=https://accounts.google.com/ServiceLogin%3Fcontinue%3Dhttps://www.google.com/search%253Fq%253DNarendra%252Bmodi%2526tbm%253Disch%2526ved%253D2ahUKEwifrdav4cmBAxVDa2wGHQaqDVUQ2-cCegQIABAA%2526oq%253DNarendra%252Bmodi%2526gs_lcp%253DCgNpbWcQAzIECCMQJzIHCAAQigUQQzILCAAQgAQQsQMQgwEyCAgAEIAEELEDMgsIABCABBCxAxCDATIICAAQgAQQsQMyCwgAEIAEELEDEIMBMggIABCABBCxAzIFCAAQgAQyCwgAEIAEELEDEIMBOgoIABCKBRCxAxBDOg0IABCKBRCxAxCDARBDOgkIABAYEIAEEAo6BwgAEBgQgAQ6DAgAEBgQgAQQxwMQClDTDFjlNGDhNmgCcAB4AIABgwGIAeANkgEEMC4xNpgBAKABAaoBC2d3cy13aXotaW1nwAEB%2526sclient%253Dimg%2526ei%253DoZUTZd_YNsPWseMPhtS2qAU%2526bih%253D651%2526biw%253D1366%2526rlz%253D1C1VDKB_enIN981IN981%26hl%3Den&amp;opi=89978449&amp;sa=U&amp;ved=0ahUKEwiQp7aE4smBAxXEhlYBHdlhDhoQxs8CCFQ&amp;usg=AOvVaw2EAhwjgubA79cJWf-Xah8b\">Sign in</a></div><div><table class=\"bookcf\"><tbody class=\"InWNIe\"><tr><td><a class=\"rEM8G\" href=\"https://www.google.com/preferences?hl=en&amp;sa=X&amp;ved=0ahUKEwiQp7aE4smBAxXEhlYBHdlhDhoQv5YECFU\">Settings</a></td><td><a class=\"rEM8G\" href=\"https://www.google.com/intl/en_in/policies/privacy/\">Privacy</a></td><td><a class=\"rEM8G\" href=\"https://www.google.com/intl/en_in/policies/terms/\">Terms</a></td></tr></tbody></table></div></div><div> </div></body></html>"
      ]
     },
     "execution_count": 30,
     "metadata": {},
     "output_type": "execute_result"
    }
   ],
   "source": [
    "soup"
   ]
  },
  {
   "cell_type": "code",
   "execution_count": 31,
   "id": "64765471",
   "metadata": {},
   "outputs": [
    {
     "ename": "KeyError",
     "evalue": "0",
     "output_type": "error",
     "traceback": [
      "\u001b[1;31m---------------------------------------------------------------------------\u001b[0m",
      "\u001b[1;31mKeyError\u001b[0m                                  Traceback (most recent call last)",
      "Cell \u001b[1;32mIn[31], line 1\u001b[0m\n\u001b[1;32m----> 1\u001b[0m soup[\u001b[38;5;241m0\u001b[39m]\n",
      "File \u001b[1;32m~\\anaconda3\\Lib\\site-packages\\bs4\\element.py:1573\u001b[0m, in \u001b[0;36mTag.__getitem__\u001b[1;34m(self, key)\u001b[0m\n\u001b[0;32m   1570\u001b[0m \u001b[38;5;28;01mdef\u001b[39;00m \u001b[38;5;21m__getitem__\u001b[39m(\u001b[38;5;28mself\u001b[39m, key):\n\u001b[0;32m   1571\u001b[0m \u001b[38;5;250m    \u001b[39m\u001b[38;5;124;03m\"\"\"tag[key] returns the value of the 'key' attribute for the Tag,\u001b[39;00m\n\u001b[0;32m   1572\u001b[0m \u001b[38;5;124;03m    and throws an exception if it's not there.\"\"\"\u001b[39;00m\n\u001b[1;32m-> 1573\u001b[0m     \u001b[38;5;28;01mreturn\u001b[39;00m \u001b[38;5;28mself\u001b[39m\u001b[38;5;241m.\u001b[39mattrs[key]\n",
      "\u001b[1;31mKeyError\u001b[0m: 0"
     ]
    }
   ],
   "source": [
    "soup[0]"
   ]
  },
  {
   "cell_type": "code",
   "execution_count": 37,
   "id": "b9a8b15c",
   "metadata": {},
   "outputs": [
    {
     "data": {
      "text/plain": [
       "[<img alt=\"Google\" class=\"kgJEQe\" src=\"/images/branding/searchlogo/1x/googlelogo_desk_heirloom_color_150x55dp.gif\"/>,\n",
       " <img alt=\"\" class=\"DS1iW\" src=\"https://encrypted-tbn0.gstatic.com/images?q=tbn:ANd9GcRJqHzg9DJJPRbcFIrzl2LM_9PxyNSoyVF4mC09eVrcfdfo_5-dY8IApJu0MEM&amp;s\"/>,\n",
       " <img alt=\"\" class=\"DS1iW\" src=\"https://encrypted-tbn0.gstatic.com/images?q=tbn:ANd9GcTw7G48FnLNCO2gGjMABD7W_0PPI2v9HQts8jXdtqEomxahKG15PaUEOEo2H3U&amp;s\"/>,\n",
       " <img alt=\"\" class=\"DS1iW\" src=\"https://encrypted-tbn0.gstatic.com/images?q=tbn:ANd9GcQVPxSCEIg_M8FyTMpCLU22_alJtuBvdPCyQp5IdnRqkyHGgZJ5LmxApXd7LQ&amp;s\"/>,\n",
       " <img alt=\"\" class=\"DS1iW\" src=\"https://encrypted-tbn0.gstatic.com/images?q=tbn:ANd9GcQOC16lojwwVZNKwYe49beCE4q3cnMxTCLpwEtArDSmauHXy3UHN_mAQ1GA2YE&amp;s\"/>,\n",
       " <img alt=\"\" class=\"DS1iW\" src=\"https://encrypted-tbn0.gstatic.com/images?q=tbn:ANd9GcT-i6AxoBM1fRwZs2QaHjH5JqGggwz7b6unCv4L23TZOD2awD69-2gZotIXdA&amp;s\"/>,\n",
       " <img alt=\"\" class=\"DS1iW\" src=\"https://encrypted-tbn0.gstatic.com/images?q=tbn:ANd9GcSfL0MTXvWlvnhsVD_Sf2L6AVqSt4ajLrbBgHOsIcRVRbj7w03kUEZ4duAgyA&amp;s\"/>,\n",
       " <img alt=\"\" class=\"DS1iW\" src=\"https://encrypted-tbn0.gstatic.com/images?q=tbn:ANd9GcTJQhVDWcv65kzjWZ1JY7_9c3Bv4eWzcsiTRmjfzf_jTLpsv6-TjLzgeWjRsZI&amp;s\"/>,\n",
       " <img alt=\"\" class=\"DS1iW\" src=\"https://encrypted-tbn0.gstatic.com/images?q=tbn:ANd9GcSDblPSM39vbs1dB3QaZsxwoDuxrKmBN69s9nW6NVinFjhqa6bOkyp2UxkeNAM&amp;s\"/>,\n",
       " <img alt=\"\" class=\"DS1iW\" src=\"https://encrypted-tbn0.gstatic.com/images?q=tbn:ANd9GcRwtnGmI63UUqyjoUGxw9w8b91nfD8yRSsa3narkcLLXCWLzVjgdXHOxr2ilQ&amp;s\"/>,\n",
       " <img alt=\"\" class=\"DS1iW\" src=\"https://encrypted-tbn0.gstatic.com/images?q=tbn:ANd9GcRuSom3tU-G3wX6VYdnz51qxFTHuyY8k2c4L9tERQ3PJLHIa1YS_O3FTAj87Q&amp;s\"/>,\n",
       " <img alt=\"\" class=\"DS1iW\" src=\"https://encrypted-tbn0.gstatic.com/images?q=tbn:ANd9GcRqQvqg2PLfEo5o-6GTFg0YCqk4wyoxJPKcj92yzVP1XNdvUQ2SpU_NqfX9joA&amp;s\"/>,\n",
       " <img alt=\"\" class=\"DS1iW\" src=\"https://encrypted-tbn0.gstatic.com/images?q=tbn:ANd9GcTBSwvSwKBlRUAZkr67W5xPjJZdtX_JFgPraEBWMDlX0ssY_VPVyjrwN7DkRA&amp;s\"/>,\n",
       " <img alt=\"\" class=\"DS1iW\" src=\"https://encrypted-tbn0.gstatic.com/images?q=tbn:ANd9GcQn0b57rRS4utjHPAV19UdbsS5uUBX8Ul5zX1MMCJl9zKzsvz1nPezUuidLSQ&amp;s\"/>,\n",
       " <img alt=\"\" class=\"DS1iW\" src=\"https://encrypted-tbn0.gstatic.com/images?q=tbn:ANd9GcRGMXxYjlv5kEkB17NUmx35-6JcaPxpkQEQK13RSnND1Jm5bx_exGeibNqw9PI&amp;s\"/>,\n",
       " <img alt=\"\" class=\"DS1iW\" src=\"https://encrypted-tbn0.gstatic.com/images?q=tbn:ANd9GcRK3L9xVMRO33pU3RwecMjUkWx-VAfsLFx2LAiyXPcSodnD6C0dbg093hkepw&amp;s\"/>,\n",
       " <img alt=\"\" class=\"DS1iW\" src=\"https://encrypted-tbn0.gstatic.com/images?q=tbn:ANd9GcS19sRa5qkk9BKFcG2vQB3L1O0Y6HeIxI2GjCmt6nPV8RuN4PzOszdowMSzEA&amp;s\"/>,\n",
       " <img alt=\"\" class=\"DS1iW\" src=\"https://encrypted-tbn0.gstatic.com/images?q=tbn:ANd9GcSae8BSQxliATNPGCwQrQJKhlqjVZbFrP2D6yEfMMqyPPi7RvL0p2awsH_C7ck&amp;s\"/>,\n",
       " <img alt=\"\" class=\"DS1iW\" src=\"https://encrypted-tbn0.gstatic.com/images?q=tbn:ANd9GcQhHSpPmlyTmHx7g8uA2ovzLZJCySoxuTkyoTz-rCgoUHCEKQfuV8EmTcYoHjk&amp;s\"/>,\n",
       " <img alt=\"\" class=\"DS1iW\" src=\"https://encrypted-tbn0.gstatic.com/images?q=tbn:ANd9GcSvvDz1Coxn3FAaBSTuqOzxfFMiRd2azk31NFp-pJoWVFWqOVrREzPJslf3fg&amp;s\"/>,\n",
       " <img alt=\"\" class=\"DS1iW\" src=\"https://encrypted-tbn0.gstatic.com/images?q=tbn:ANd9GcRnfzpHf0kzn4I0mq35cYRiJ4Hc8K_BMhIIqBMANT2g209lufEffGe5KLAPLbU&amp;s\"/>]"
      ]
     },
     "execution_count": 37,
     "metadata": {},
     "output_type": "execute_result"
    }
   ],
   "source": [
    "soup.find_all(\"img\")"
   ]
  },
  {
   "cell_type": "code",
   "execution_count": 39,
   "id": "963a6637",
   "metadata": {},
   "outputs": [],
   "source": [
    "image_tag=soup.find_all(\"img\")"
   ]
  },
  {
   "cell_type": "code",
   "execution_count": 40,
   "id": "35b034e3",
   "metadata": {},
   "outputs": [
    {
     "data": {
      "text/plain": [
       "[<img alt=\"Google\" class=\"kgJEQe\" src=\"/images/branding/searchlogo/1x/googlelogo_desk_heirloom_color_150x55dp.gif\"/>,\n",
       " <img alt=\"\" class=\"DS1iW\" src=\"https://encrypted-tbn0.gstatic.com/images?q=tbn:ANd9GcRJqHzg9DJJPRbcFIrzl2LM_9PxyNSoyVF4mC09eVrcfdfo_5-dY8IApJu0MEM&amp;s\"/>,\n",
       " <img alt=\"\" class=\"DS1iW\" src=\"https://encrypted-tbn0.gstatic.com/images?q=tbn:ANd9GcTw7G48FnLNCO2gGjMABD7W_0PPI2v9HQts8jXdtqEomxahKG15PaUEOEo2H3U&amp;s\"/>,\n",
       " <img alt=\"\" class=\"DS1iW\" src=\"https://encrypted-tbn0.gstatic.com/images?q=tbn:ANd9GcQVPxSCEIg_M8FyTMpCLU22_alJtuBvdPCyQp5IdnRqkyHGgZJ5LmxApXd7LQ&amp;s\"/>,\n",
       " <img alt=\"\" class=\"DS1iW\" src=\"https://encrypted-tbn0.gstatic.com/images?q=tbn:ANd9GcQOC16lojwwVZNKwYe49beCE4q3cnMxTCLpwEtArDSmauHXy3UHN_mAQ1GA2YE&amp;s\"/>,\n",
       " <img alt=\"\" class=\"DS1iW\" src=\"https://encrypted-tbn0.gstatic.com/images?q=tbn:ANd9GcT-i6AxoBM1fRwZs2QaHjH5JqGggwz7b6unCv4L23TZOD2awD69-2gZotIXdA&amp;s\"/>,\n",
       " <img alt=\"\" class=\"DS1iW\" src=\"https://encrypted-tbn0.gstatic.com/images?q=tbn:ANd9GcSfL0MTXvWlvnhsVD_Sf2L6AVqSt4ajLrbBgHOsIcRVRbj7w03kUEZ4duAgyA&amp;s\"/>,\n",
       " <img alt=\"\" class=\"DS1iW\" src=\"https://encrypted-tbn0.gstatic.com/images?q=tbn:ANd9GcTJQhVDWcv65kzjWZ1JY7_9c3Bv4eWzcsiTRmjfzf_jTLpsv6-TjLzgeWjRsZI&amp;s\"/>,\n",
       " <img alt=\"\" class=\"DS1iW\" src=\"https://encrypted-tbn0.gstatic.com/images?q=tbn:ANd9GcSDblPSM39vbs1dB3QaZsxwoDuxrKmBN69s9nW6NVinFjhqa6bOkyp2UxkeNAM&amp;s\"/>,\n",
       " <img alt=\"\" class=\"DS1iW\" src=\"https://encrypted-tbn0.gstatic.com/images?q=tbn:ANd9GcRwtnGmI63UUqyjoUGxw9w8b91nfD8yRSsa3narkcLLXCWLzVjgdXHOxr2ilQ&amp;s\"/>,\n",
       " <img alt=\"\" class=\"DS1iW\" src=\"https://encrypted-tbn0.gstatic.com/images?q=tbn:ANd9GcRuSom3tU-G3wX6VYdnz51qxFTHuyY8k2c4L9tERQ3PJLHIa1YS_O3FTAj87Q&amp;s\"/>,\n",
       " <img alt=\"\" class=\"DS1iW\" src=\"https://encrypted-tbn0.gstatic.com/images?q=tbn:ANd9GcRqQvqg2PLfEo5o-6GTFg0YCqk4wyoxJPKcj92yzVP1XNdvUQ2SpU_NqfX9joA&amp;s\"/>,\n",
       " <img alt=\"\" class=\"DS1iW\" src=\"https://encrypted-tbn0.gstatic.com/images?q=tbn:ANd9GcTBSwvSwKBlRUAZkr67W5xPjJZdtX_JFgPraEBWMDlX0ssY_VPVyjrwN7DkRA&amp;s\"/>,\n",
       " <img alt=\"\" class=\"DS1iW\" src=\"https://encrypted-tbn0.gstatic.com/images?q=tbn:ANd9GcQn0b57rRS4utjHPAV19UdbsS5uUBX8Ul5zX1MMCJl9zKzsvz1nPezUuidLSQ&amp;s\"/>,\n",
       " <img alt=\"\" class=\"DS1iW\" src=\"https://encrypted-tbn0.gstatic.com/images?q=tbn:ANd9GcRGMXxYjlv5kEkB17NUmx35-6JcaPxpkQEQK13RSnND1Jm5bx_exGeibNqw9PI&amp;s\"/>,\n",
       " <img alt=\"\" class=\"DS1iW\" src=\"https://encrypted-tbn0.gstatic.com/images?q=tbn:ANd9GcRK3L9xVMRO33pU3RwecMjUkWx-VAfsLFx2LAiyXPcSodnD6C0dbg093hkepw&amp;s\"/>,\n",
       " <img alt=\"\" class=\"DS1iW\" src=\"https://encrypted-tbn0.gstatic.com/images?q=tbn:ANd9GcS19sRa5qkk9BKFcG2vQB3L1O0Y6HeIxI2GjCmt6nPV8RuN4PzOszdowMSzEA&amp;s\"/>,\n",
       " <img alt=\"\" class=\"DS1iW\" src=\"https://encrypted-tbn0.gstatic.com/images?q=tbn:ANd9GcSae8BSQxliATNPGCwQrQJKhlqjVZbFrP2D6yEfMMqyPPi7RvL0p2awsH_C7ck&amp;s\"/>,\n",
       " <img alt=\"\" class=\"DS1iW\" src=\"https://encrypted-tbn0.gstatic.com/images?q=tbn:ANd9GcQhHSpPmlyTmHx7g8uA2ovzLZJCySoxuTkyoTz-rCgoUHCEKQfuV8EmTcYoHjk&amp;s\"/>,\n",
       " <img alt=\"\" class=\"DS1iW\" src=\"https://encrypted-tbn0.gstatic.com/images?q=tbn:ANd9GcSvvDz1Coxn3FAaBSTuqOzxfFMiRd2azk31NFp-pJoWVFWqOVrREzPJslf3fg&amp;s\"/>,\n",
       " <img alt=\"\" class=\"DS1iW\" src=\"https://encrypted-tbn0.gstatic.com/images?q=tbn:ANd9GcRnfzpHf0kzn4I0mq35cYRiJ4Hc8K_BMhIIqBMANT2g209lufEffGe5KLAPLbU&amp;s\"/>]"
      ]
     },
     "execution_count": 40,
     "metadata": {},
     "output_type": "execute_result"
    }
   ],
   "source": [
    "image_tag"
   ]
  },
  {
   "cell_type": "code",
   "execution_count": 42,
   "id": "89fc1bc1",
   "metadata": {},
   "outputs": [
    {
     "data": {
      "text/plain": [
       "<img alt=\"Google\" class=\"kgJEQe\" src=\"/images/branding/searchlogo/1x/googlelogo_desk_heirloom_color_150x55dp.gif\"/>"
      ]
     },
     "execution_count": 42,
     "metadata": {},
     "output_type": "execute_result"
    }
   ],
   "source": [
    "image_tag[0]"
   ]
  },
  {
   "cell_type": "code",
   "execution_count": 43,
   "id": "40d89b00",
   "metadata": {},
   "outputs": [],
   "source": [
    "del image_tag[0]\n"
   ]
  },
  {
   "cell_type": "code",
   "execution_count": 44,
   "id": "b57d2e48",
   "metadata": {},
   "outputs": [
    {
     "data": {
      "text/plain": [
       "[<img alt=\"\" class=\"DS1iW\" src=\"https://encrypted-tbn0.gstatic.com/images?q=tbn:ANd9GcRJqHzg9DJJPRbcFIrzl2LM_9PxyNSoyVF4mC09eVrcfdfo_5-dY8IApJu0MEM&amp;s\"/>,\n",
       " <img alt=\"\" class=\"DS1iW\" src=\"https://encrypted-tbn0.gstatic.com/images?q=tbn:ANd9GcTw7G48FnLNCO2gGjMABD7W_0PPI2v9HQts8jXdtqEomxahKG15PaUEOEo2H3U&amp;s\"/>,\n",
       " <img alt=\"\" class=\"DS1iW\" src=\"https://encrypted-tbn0.gstatic.com/images?q=tbn:ANd9GcQVPxSCEIg_M8FyTMpCLU22_alJtuBvdPCyQp5IdnRqkyHGgZJ5LmxApXd7LQ&amp;s\"/>,\n",
       " <img alt=\"\" class=\"DS1iW\" src=\"https://encrypted-tbn0.gstatic.com/images?q=tbn:ANd9GcQOC16lojwwVZNKwYe49beCE4q3cnMxTCLpwEtArDSmauHXy3UHN_mAQ1GA2YE&amp;s\"/>,\n",
       " <img alt=\"\" class=\"DS1iW\" src=\"https://encrypted-tbn0.gstatic.com/images?q=tbn:ANd9GcT-i6AxoBM1fRwZs2QaHjH5JqGggwz7b6unCv4L23TZOD2awD69-2gZotIXdA&amp;s\"/>,\n",
       " <img alt=\"\" class=\"DS1iW\" src=\"https://encrypted-tbn0.gstatic.com/images?q=tbn:ANd9GcSfL0MTXvWlvnhsVD_Sf2L6AVqSt4ajLrbBgHOsIcRVRbj7w03kUEZ4duAgyA&amp;s\"/>,\n",
       " <img alt=\"\" class=\"DS1iW\" src=\"https://encrypted-tbn0.gstatic.com/images?q=tbn:ANd9GcTJQhVDWcv65kzjWZ1JY7_9c3Bv4eWzcsiTRmjfzf_jTLpsv6-TjLzgeWjRsZI&amp;s\"/>,\n",
       " <img alt=\"\" class=\"DS1iW\" src=\"https://encrypted-tbn0.gstatic.com/images?q=tbn:ANd9GcSDblPSM39vbs1dB3QaZsxwoDuxrKmBN69s9nW6NVinFjhqa6bOkyp2UxkeNAM&amp;s\"/>,\n",
       " <img alt=\"\" class=\"DS1iW\" src=\"https://encrypted-tbn0.gstatic.com/images?q=tbn:ANd9GcRwtnGmI63UUqyjoUGxw9w8b91nfD8yRSsa3narkcLLXCWLzVjgdXHOxr2ilQ&amp;s\"/>,\n",
       " <img alt=\"\" class=\"DS1iW\" src=\"https://encrypted-tbn0.gstatic.com/images?q=tbn:ANd9GcRuSom3tU-G3wX6VYdnz51qxFTHuyY8k2c4L9tERQ3PJLHIa1YS_O3FTAj87Q&amp;s\"/>,\n",
       " <img alt=\"\" class=\"DS1iW\" src=\"https://encrypted-tbn0.gstatic.com/images?q=tbn:ANd9GcRqQvqg2PLfEo5o-6GTFg0YCqk4wyoxJPKcj92yzVP1XNdvUQ2SpU_NqfX9joA&amp;s\"/>,\n",
       " <img alt=\"\" class=\"DS1iW\" src=\"https://encrypted-tbn0.gstatic.com/images?q=tbn:ANd9GcTBSwvSwKBlRUAZkr67W5xPjJZdtX_JFgPraEBWMDlX0ssY_VPVyjrwN7DkRA&amp;s\"/>,\n",
       " <img alt=\"\" class=\"DS1iW\" src=\"https://encrypted-tbn0.gstatic.com/images?q=tbn:ANd9GcQn0b57rRS4utjHPAV19UdbsS5uUBX8Ul5zX1MMCJl9zKzsvz1nPezUuidLSQ&amp;s\"/>,\n",
       " <img alt=\"\" class=\"DS1iW\" src=\"https://encrypted-tbn0.gstatic.com/images?q=tbn:ANd9GcRGMXxYjlv5kEkB17NUmx35-6JcaPxpkQEQK13RSnND1Jm5bx_exGeibNqw9PI&amp;s\"/>,\n",
       " <img alt=\"\" class=\"DS1iW\" src=\"https://encrypted-tbn0.gstatic.com/images?q=tbn:ANd9GcRK3L9xVMRO33pU3RwecMjUkWx-VAfsLFx2LAiyXPcSodnD6C0dbg093hkepw&amp;s\"/>,\n",
       " <img alt=\"\" class=\"DS1iW\" src=\"https://encrypted-tbn0.gstatic.com/images?q=tbn:ANd9GcS19sRa5qkk9BKFcG2vQB3L1O0Y6HeIxI2GjCmt6nPV8RuN4PzOszdowMSzEA&amp;s\"/>,\n",
       " <img alt=\"\" class=\"DS1iW\" src=\"https://encrypted-tbn0.gstatic.com/images?q=tbn:ANd9GcSae8BSQxliATNPGCwQrQJKhlqjVZbFrP2D6yEfMMqyPPi7RvL0p2awsH_C7ck&amp;s\"/>,\n",
       " <img alt=\"\" class=\"DS1iW\" src=\"https://encrypted-tbn0.gstatic.com/images?q=tbn:ANd9GcQhHSpPmlyTmHx7g8uA2ovzLZJCySoxuTkyoTz-rCgoUHCEKQfuV8EmTcYoHjk&amp;s\"/>,\n",
       " <img alt=\"\" class=\"DS1iW\" src=\"https://encrypted-tbn0.gstatic.com/images?q=tbn:ANd9GcSvvDz1Coxn3FAaBSTuqOzxfFMiRd2azk31NFp-pJoWVFWqOVrREzPJslf3fg&amp;s\"/>,\n",
       " <img alt=\"\" class=\"DS1iW\" src=\"https://encrypted-tbn0.gstatic.com/images?q=tbn:ANd9GcRnfzpHf0kzn4I0mq35cYRiJ4Hc8K_BMhIIqBMANT2g209lufEffGe5KLAPLbU&amp;s\"/>]"
      ]
     },
     "execution_count": 44,
     "metadata": {},
     "output_type": "execute_result"
    }
   ],
   "source": [
    "image_tag\n"
   ]
  },
  {
   "cell_type": "code",
   "execution_count": 45,
   "id": "319fae25",
   "metadata": {},
   "outputs": [
    {
     "data": {
      "text/plain": [
       "20"
      ]
     },
     "execution_count": 45,
     "metadata": {},
     "output_type": "execute_result"
    }
   ],
   "source": [
    "len(image_tag)"
   ]
  },
  {
   "cell_type": "code",
   "execution_count": 46,
   "id": "45130562",
   "metadata": {},
   "outputs": [
    {
     "name": "stdout",
     "output_type": "stream",
     "text": [
      "https://encrypted-tbn0.gstatic.com/images?q=tbn:ANd9GcRJqHzg9DJJPRbcFIrzl2LM_9PxyNSoyVF4mC09eVrcfdfo_5-dY8IApJu0MEM&s\n",
      "https://encrypted-tbn0.gstatic.com/images?q=tbn:ANd9GcTw7G48FnLNCO2gGjMABD7W_0PPI2v9HQts8jXdtqEomxahKG15PaUEOEo2H3U&s\n",
      "https://encrypted-tbn0.gstatic.com/images?q=tbn:ANd9GcQVPxSCEIg_M8FyTMpCLU22_alJtuBvdPCyQp5IdnRqkyHGgZJ5LmxApXd7LQ&s\n",
      "https://encrypted-tbn0.gstatic.com/images?q=tbn:ANd9GcQOC16lojwwVZNKwYe49beCE4q3cnMxTCLpwEtArDSmauHXy3UHN_mAQ1GA2YE&s\n",
      "https://encrypted-tbn0.gstatic.com/images?q=tbn:ANd9GcT-i6AxoBM1fRwZs2QaHjH5JqGggwz7b6unCv4L23TZOD2awD69-2gZotIXdA&s\n",
      "https://encrypted-tbn0.gstatic.com/images?q=tbn:ANd9GcSfL0MTXvWlvnhsVD_Sf2L6AVqSt4ajLrbBgHOsIcRVRbj7w03kUEZ4duAgyA&s\n",
      "https://encrypted-tbn0.gstatic.com/images?q=tbn:ANd9GcTJQhVDWcv65kzjWZ1JY7_9c3Bv4eWzcsiTRmjfzf_jTLpsv6-TjLzgeWjRsZI&s\n",
      "https://encrypted-tbn0.gstatic.com/images?q=tbn:ANd9GcSDblPSM39vbs1dB3QaZsxwoDuxrKmBN69s9nW6NVinFjhqa6bOkyp2UxkeNAM&s\n",
      "https://encrypted-tbn0.gstatic.com/images?q=tbn:ANd9GcRwtnGmI63UUqyjoUGxw9w8b91nfD8yRSsa3narkcLLXCWLzVjgdXHOxr2ilQ&s\n",
      "https://encrypted-tbn0.gstatic.com/images?q=tbn:ANd9GcRuSom3tU-G3wX6VYdnz51qxFTHuyY8k2c4L9tERQ3PJLHIa1YS_O3FTAj87Q&s\n",
      "https://encrypted-tbn0.gstatic.com/images?q=tbn:ANd9GcRqQvqg2PLfEo5o-6GTFg0YCqk4wyoxJPKcj92yzVP1XNdvUQ2SpU_NqfX9joA&s\n",
      "https://encrypted-tbn0.gstatic.com/images?q=tbn:ANd9GcTBSwvSwKBlRUAZkr67W5xPjJZdtX_JFgPraEBWMDlX0ssY_VPVyjrwN7DkRA&s\n",
      "https://encrypted-tbn0.gstatic.com/images?q=tbn:ANd9GcQn0b57rRS4utjHPAV19UdbsS5uUBX8Ul5zX1MMCJl9zKzsvz1nPezUuidLSQ&s\n",
      "https://encrypted-tbn0.gstatic.com/images?q=tbn:ANd9GcRGMXxYjlv5kEkB17NUmx35-6JcaPxpkQEQK13RSnND1Jm5bx_exGeibNqw9PI&s\n",
      "https://encrypted-tbn0.gstatic.com/images?q=tbn:ANd9GcRK3L9xVMRO33pU3RwecMjUkWx-VAfsLFx2LAiyXPcSodnD6C0dbg093hkepw&s\n",
      "https://encrypted-tbn0.gstatic.com/images?q=tbn:ANd9GcS19sRa5qkk9BKFcG2vQB3L1O0Y6HeIxI2GjCmt6nPV8RuN4PzOszdowMSzEA&s\n",
      "https://encrypted-tbn0.gstatic.com/images?q=tbn:ANd9GcSae8BSQxliATNPGCwQrQJKhlqjVZbFrP2D6yEfMMqyPPi7RvL0p2awsH_C7ck&s\n",
      "https://encrypted-tbn0.gstatic.com/images?q=tbn:ANd9GcQhHSpPmlyTmHx7g8uA2ovzLZJCySoxuTkyoTz-rCgoUHCEKQfuV8EmTcYoHjk&s\n",
      "https://encrypted-tbn0.gstatic.com/images?q=tbn:ANd9GcSvvDz1Coxn3FAaBSTuqOzxfFMiRd2azk31NFp-pJoWVFWqOVrREzPJslf3fg&s\n",
      "https://encrypted-tbn0.gstatic.com/images?q=tbn:ANd9GcRnfzpHf0kzn4I0mq35cYRiJ4Hc8K_BMhIIqBMANT2g209lufEffGe5KLAPLbU&s\n"
     ]
    }
   ],
   "source": [
    "for i in image_tag:\n",
    "    print(i[\"src\"])"
   ]
  },
  {
   "cell_type": "code",
   "execution_count": 48,
   "id": "053466a6",
   "metadata": {},
   "outputs": [],
   "source": [
    "for i in image_tag:\n",
    "    image_url=i['src']\n",
    "    image_data=requests.get(image_url).content\n",
    "    with open(os.path.join(save_dir,f\"{querry}_{image_tag.index(i)}.jpg\"),\"wb\")as f:\n",
    "        f.write(image_data)"
   ]
  },
  {
   "cell_type": "code",
   "execution_count": null,
   "id": "2aa04c29",
   "metadata": {},
   "outputs": [],
   "source": []
  }
 ],
 "metadata": {
  "kernelspec": {
   "display_name": "Python 3 (ipykernel)",
   "language": "python",
   "name": "python3"
  },
  "language_info": {
   "codemirror_mode": {
    "name": "ipython",
    "version": 3
   },
   "file_extension": ".py",
   "mimetype": "text/x-python",
   "name": "python",
   "nbconvert_exporter": "python",
   "pygments_lexer": "ipython3",
   "version": "3.11.4"
  }
 },
 "nbformat": 4,
 "nbformat_minor": 5
}
